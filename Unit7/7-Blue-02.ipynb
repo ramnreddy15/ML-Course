{
 "cells": [
  {
   "cell_type": "code",
   "execution_count": 17,
   "metadata": {},
   "outputs": [
    {
     "name": "stdout",
     "output_type": "stream",
     "text": [
      "tensor([[1., 0., 0., 0., 0., 0., 0., 0.],\n",
      "        [0., 1., 0., 0., 0., 0., 0., 0.],\n",
      "        [0., 0., 1., 0., 0., 0., 0., 0.],\n",
      "        [0., 0., 0., 1., 0., 0., 0., 0.],\n",
      "        [0., 0., 0., 0., 1., 0., 0., 0.],\n",
      "        [0., 0., 0., 0., 0., 1., 0., 0.],\n",
      "        [0., 0., 0., 0., 0., 0., 1., 0.],\n",
      "        [0., 0., 0., 0., 0., 0., 0., 1.]])\n"
     ]
    }
   ],
   "source": [
    "#\n",
    "import torch\n",
    "import torch.nn as nn\n",
    "import math\n",
    "#\n",
    "inputs = torch . tensor( [ [ 1.0,0,0,0,0,0,0,0 ] , [ 0.0,1,0,0,0,0,0,0 ], [0.0,0,1,0,0,0,0,0], \n",
    "                          [0.0,0,0,1,0,0,0,0], [0.0,0,0,0,1,0,0,0], [0.0,0,0,0,0,1,0,0], [0.0,0,0,0,0,0,1,0],\n",
    "                          [0.0,0,0,0,0,0,0,1] ] )\n",
    "#\n",
    "print( inputs )\n",
    "#"
   ]
  },
  {
   "cell_type": "code",
   "execution_count": 18,
   "metadata": {},
   "outputs": [
    {
     "name": "stdout",
     "output_type": "stream",
     "text": [
      "Parameter containing:\n",
      "tensor([[-0.1739,  0.2366, -0.3163,  0.1856,  0.0068, -0.1276,  0.3123,  0.0688],\n",
      "        [-0.0182, -0.0278,  0.0273,  0.3436, -0.1395,  0.0504, -0.2124, -0.1734],\n",
      "        [ 0.3116, -0.1637,  0.2610, -0.3340,  0.2238,  0.1606,  0.1555, -0.1362]],\n",
      "       requires_grad=True)\n",
      "Parameter containing:\n",
      "tensor([-0.0930, -0.3462, -0.3443], requires_grad=True)\n",
      "Parameter containing:\n",
      "tensor([[-0.3722,  0.1235,  0.2159],\n",
      "        [ 0.5650,  0.0100, -0.0131],\n",
      "        [ 0.5410,  0.4661,  0.4198],\n",
      "        [ 0.1944,  0.5597, -0.1499],\n",
      "        [ 0.5609,  0.1288,  0.2974],\n",
      "        [-0.4037,  0.4227,  0.4908],\n",
      "        [-0.2339,  0.0953,  0.2290],\n",
      "        [-0.3488, -0.2998,  0.2001]], requires_grad=True)\n",
      "Parameter containing:\n",
      "tensor([-0.1750, -0.0378, -0.4357,  0.3455, -0.1819,  0.2265, -0.0925, -0.2575],\n",
      "       requires_grad=True)\n",
      "Loss 0.061402544379234314\n",
      "Parameter containing:\n",
      "tensor([[-3.4161,  4.7680,  4.2931, -0.0706,  3.7892, -4.6717,  0.1320, -4.6691],\n",
      "        [-2.4570, -0.5472,  4.9763,  4.1570, -2.1071,  3.9297, -6.2444, -0.9784],\n",
      "        [ 4.0432, -3.8733,  3.7254, -4.6701,  4.3833,  1.6556, -1.2157, -3.2292]],\n",
      "       requires_grad=True)\n",
      "Parameter containing:\n",
      "tensor([-0.1304,  0.5326, -0.0038], requires_grad=True)\n",
      "Parameter containing:\n",
      "tensor([[ -7.1351,  -6.8891,   6.8680],\n",
      "        [  9.5848,  -1.8093,  -8.9736],\n",
      "        [  5.5621,   6.9651,   3.2553],\n",
      "        [ -1.4288,  10.1913,  -8.4873],\n",
      "        [  7.1150,  -7.7578,   5.6904],\n",
      "        [ -8.9372,   7.5831,   2.9006],\n",
      "        [  1.2574, -14.2525,  -4.7052],\n",
      "        [-10.4965,  -2.5033,  -7.8251]], requires_grad=True)\n",
      "Parameter containing:\n",
      "tensor([ -2.4387,  -5.6321, -12.8700,  -6.6374,  -8.2576,  -6.8522,   2.8073,\n",
      "          4.0284], requires_grad=True)\n"
     ]
    }
   ],
   "source": [
    "lin1 = torch.nn.Linear(8, 3, bias=True)\n",
    "model = nn.Sequential(\n",
    "    lin1,\n",
    "    nn.Sigmoid(),\n",
    "    nn.Linear(3, 8, bias=True),\n",
    "    nn.Sigmoid()\n",
    ")\n",
    "\n",
    "outputs = torch . tensor( [ [ 1.0,0,0,0,0,0,0,0 ] , [ 0.0,1,0,0,0,0,0,0 ], [0.0,0,1,0,0,0,0,0], \n",
    "                          [0.0,0,0,1,0,0,0,0], [0.0,0,0,0,1,0,0,0], [0.0,0,0,0,0,1,0,0], [0.0,0,0,0,0,0,1,0],\n",
    "                          [0.0,0,0,0,0,0,0,1] ] )\n",
    "\n",
    "loss_fn = nn.MSELoss(reduction='sum')\n",
    "\n",
    "model.zero_grad()\n",
    "\n",
    "optimizer = torch.optim.SGD(model.parameters(), lr=0.1)\n",
    "\n",
    "with torch.no_grad():\n",
    "    for param in model.parameters():\n",
    "        print(param)\n",
    "lossT = 10\n",
    "iteration = 0\n",
    "while iteration<10000:\n",
    "    iteration+=1\n",
    "    loss = loss_fn(model(inputs), outputs.float())\n",
    "    optimizer.zero_grad()\n",
    "\n",
    "    loss.backward()\n",
    "    optimizer.step()\n",
    "    lossT = loss.item()\n",
    "    \n",
    "print(\"Loss\",lossT)\n",
    "with torch.no_grad():\n",
    "    for param in model.parameters():\n",
    "        print(param)\n",
    "        "
   ]
  },
  {
   "cell_type": "code",
   "execution_count": 19,
   "metadata": {},
   "outputs": [
    {
     "name": "stdout",
     "output_type": "stream",
     "text": [
      "tensor([[0.0280, 0.1274, 0.9827],\n",
      "        [0.9904, 0.4963, 0.0203],\n",
      "        [0.9847, 0.9960, 0.9764],\n",
      "        [0.4499, 0.9909, 0.0092],\n",
      "        [0.9749, 0.1716, 0.9876],\n",
      "        [0.0081, 0.9886, 0.8391],\n",
      "        [0.5004, 0.0033, 0.2280],\n",
      "        [0.0082, 0.3904, 0.0379]], grad_fn=<SigmoidBackward>)\n"
     ]
    }
   ],
   "source": [
    "print(torch.sigmoid(lin1(inputs)))"
   ]
  },
  {
   "cell_type": "code",
   "execution_count": null,
   "metadata": {},
   "outputs": [],
   "source": []
  }
 ],
 "metadata": {
  "kernelspec": {
   "display_name": "Machine-Learning",
   "language": "python",
   "name": "ml"
  },
  "language_info": {
   "codemirror_mode": {
    "name": "ipython",
    "version": 3
   },
   "file_extension": ".py",
   "mimetype": "text/x-python",
   "name": "python",
   "nbconvert_exporter": "python",
   "pygments_lexer": "ipython3",
   "version": "3.8.5"
  }
 },
 "nbformat": 4,
 "nbformat_minor": 4
}
