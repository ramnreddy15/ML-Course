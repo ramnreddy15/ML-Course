{
 "cells": [
  {
   "cell_type": "code",
   "execution_count": 18,
   "metadata": {},
   "outputs": [
    {
     "name": "stdout",
     "output_type": "stream",
     "text": [
      "tensor([[0., 0.],\n",
      "        [1., 1.],\n",
      "        [1., 0.],\n",
      "        [0., 1.]])\n"
     ]
    }
   ],
   "source": [
    "#\n",
    "import torch\n",
    "import torch.nn as nn\n",
    "import math\n",
    "#\n",
    "inputs = torch . tensor( [ [ 0.0, 0 ] , [ 1.0,1 ], [1,0], [0,1] ] )\n",
    "#\n",
    "print( inputs )\n",
    "#"
   ]
  },
  {
   "cell_type": "code",
   "execution_count": 19,
   "metadata": {},
   "outputs": [
    {
     "name": "stdout",
     "output_type": "stream",
     "text": [
      "Parameter containing:\n",
      "tensor([[-0.2852,  0.6827]], requires_grad=True)\n",
      "Parameter containing:\n",
      "tensor([0.3116], requires_grad=True)\n",
      "\n",
      "Parameter containing:\n",
      "tensor([[6.2721, 6.2721]], requires_grad=True)\n",
      "Parameter containing:\n",
      "tensor([-9.4979], requires_grad=True)\n",
      "\n",
      "0.004979147110134363\n"
     ]
    }
   ],
   "source": [
    "weights = (-1,1)\n",
    "learning_rate = 0.1\n",
    "\n",
    "model = nn.Sequential(\n",
    "    nn.Linear(2, 1, bias=True),\n",
    "    nn.Sigmoid()\n",
    ")\n",
    "\n",
    "outputs = torch.tensor([[0], [1], [0], [0]])\n",
    "\n",
    "loss_fn = nn.MSELoss(reduction='sum')\n",
    "\n",
    "model.zero_grad()\n",
    "\n",
    "optimizer = torch.optim.SGD(model.parameters(), lr=0.1)\n",
    "\n",
    "with torch.no_grad():\n",
    "    for param in model.parameters():\n",
    "        print(param)\n",
    "\n",
    "for epoch in range(10000):\n",
    "    loss = loss_fn(model(inputs), outputs.float())\n",
    "    optimizer.zero_grad()\n",
    "\n",
    "    loss.backward()\n",
    "    optimizer.step()\n",
    "print()\n",
    "with torch.no_grad():\n",
    "    for param in model.parameters():\n",
    "        print(param)\n",
    "        \n",
    "print()\n",
    "print(loss.item())"
   ]
  },
  {
   "cell_type": "code",
   "execution_count": null,
   "metadata": {},
   "outputs": [],
   "source": []
  }
 ],
 "metadata": {
  "kernelspec": {
   "display_name": "Machine-Learning",
   "language": "python",
   "name": "ml"
  },
  "language_info": {
   "codemirror_mode": {
    "name": "ipython",
    "version": 3
   },
   "file_extension": ".py",
   "mimetype": "text/x-python",
   "name": "python",
   "nbconvert_exporter": "python",
   "pygments_lexer": "ipython3",
   "version": "3.8.5"
  }
 },
 "nbformat": 4,
 "nbformat_minor": 4
}
