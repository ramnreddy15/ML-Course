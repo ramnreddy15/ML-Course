{
 "cells": [
  {
   "cell_type": "code",
   "execution_count": 1,
   "metadata": {},
   "outputs": [
    {
     "name": "stdout",
     "output_type": "stream",
     "text": [
      "tensor([[0., 0.],\n",
      "        [1., 1.],\n",
      "        [1., 0.],\n",
      "        [0., 1.]])\n"
     ]
    }
   ],
   "source": [
    "#\n",
    "import torch\n",
    "import torch.nn as nn\n",
    "import math\n",
    "#\n",
    "inputs = torch . tensor( [ [ 0.0, 0 ] , [ 1.0,1 ], [1.0,0], [0.0,1] ] )\n",
    "#\n",
    "print( inputs )\n",
    "#"
   ]
  },
  {
   "cell_type": "code",
   "execution_count": 2,
   "metadata": {},
   "outputs": [
    {
     "name": "stdout",
     "output_type": "stream",
     "text": [
      "Parameter containing:\n",
      "tensor([[ 0.3198, -0.2981],\n",
      "        [ 0.6237,  0.3202]], requires_grad=True)\n",
      "Parameter containing:\n",
      "tensor([0.2165, 0.4517], requires_grad=True)\n",
      "Parameter containing:\n",
      "tensor([[0.3339, 0.0032]], requires_grad=True)\n",
      "Parameter containing:\n",
      "tensor([0.4180], requires_grad=True)\n",
      "10\n",
      "0.005871141329407692\n",
      "0.0018342328257858753\n",
      "0.0010692090727388859\n",
      "0.0007507125264964998\n",
      "0.0005771188880316913\n",
      "0.0004681501304730773\n",
      "0.00039345986442640424\n",
      "0.0003391911450307816\n",
      "0.0002979328273795545\n",
      "0.00026551863993518054\n",
      "0.00023946270812302828\n",
      "0.00021796085638925433\n",
      "0.00020019852672703564\n",
      "0.0001848548126872629\n",
      "0.00017189804930239916\n",
      "0.00016041749040596187\n",
      "0.000150636478792876\n",
      "0.00014157731493469328\n",
      "0.000133752531837672\n",
      "0.00012704475375358015\n",
      "0.00012067765055689961\n",
      "0.00011471148172859102\n",
      "0.0001094595281756483\n",
      "0.00010499821655685082\n",
      "0.00010075041791424155\n",
      "\n",
      "Parameter containing:\n",
      "tensor([[5.3212, 5.3159],\n",
      "        [7.1843, 7.1589]], requires_grad=True)\n",
      "Parameter containing:\n",
      "tensor([-8.1456, -3.2733], requires_grad=True)\n",
      "Parameter containing:\n",
      "tensor([[-12.5746,  11.8909]], requires_grad=True)\n",
      "Parameter containing:\n",
      "tensor([-5.6028], requires_grad=True)\n"
     ]
    }
   ],
   "source": [
    "model = nn.Sequential(\n",
    "    nn.Linear(2, 2, bias=True),\n",
    "    nn.Sigmoid(),\n",
    "    nn.Linear(2, 1, bias=True),\n",
    "    nn.Sigmoid()\n",
    ")\n",
    "\n",
    "outputs = torch.tensor([[0], [0], [1], [1]])\n",
    "\n",
    "loss_fn = nn.MSELoss(reduction='sum')\n",
    "\n",
    "model.zero_grad()\n",
    "\n",
    "optimizer = torch.optim.SGD(model.parameters(), lr=0.1)\n",
    "\n",
    "with torch.no_grad():\n",
    "    for param in model.parameters():\n",
    "        print(param)\n",
    "lossT = 10\n",
    "iteration = 0\n",
    "while lossT >= 0.0001:\n",
    "    if iteration % 10000 == 0:\n",
    "        print(lossT)\n",
    "    iteration+=1\n",
    "    loss = loss_fn(model(inputs), outputs.float())\n",
    "    optimizer.zero_grad()\n",
    "\n",
    "    loss.backward()\n",
    "    optimizer.step()\n",
    "    lossT = loss.item()\n",
    "    \n",
    "print()\n",
    "with torch.no_grad():\n",
    "    for param in model.parameters():\n",
    "        print(param)\n",
    "        "
   ]
  },
  {
   "cell_type": "code",
   "execution_count": 3,
   "metadata": {},
   "outputs": [],
   "source": [
    "torch.save(model, \"/cluster/2023rreddy/ML-Course/Unit7/model1.pt\")"
   ]
  },
  {
   "cell_type": "code",
   "execution_count": 4,
   "metadata": {},
   "outputs": [
    {
     "name": "stdout",
     "output_type": "stream",
     "text": [
      "Parameter containing:\n",
      "tensor([[-0.3281,  0.2491],\n",
      "        [-0.6729, -0.6888]], requires_grad=True)\n",
      "Parameter containing:\n",
      "tensor([0.3112, 0.2396], requires_grad=True)\n",
      "Parameter containing:\n",
      "tensor([[-0.3109, -0.3886]], requires_grad=True)\n",
      "Parameter containing:\n",
      "tensor([-0.5769], requires_grad=True)\n",
      "10\n",
      "0.003936854191124439\n",
      "0.001584780402481556\n",
      "0.0009799688123166561\n",
      "0.0007062184158712626\n",
      "0.0005508947651833296\n",
      "0.00045092985965311527\n",
      "0.00038151524495333433\n",
      "0.000330397771904245\n",
      "0.00029109008028171957\n",
      "0.0002602915628813207\n",
      "0.00023526862787548453\n",
      "0.00021446356549859047\n",
      "0.00019742397125810385\n",
      "0.00018246370018459857\n",
      "0.00016981238150037825\n",
      "0.0001587402366567403\n",
      "0.00014914391795173287\n",
      "0.00014012824976816773\n",
      "0.00013249707990325987\n",
      "0.00012587523087859154\n",
      "0.00011966378951910883\n",
      "0.00011381148942746222\n",
      "0.00010878959437832236\n",
      "0.0001043602023855783\n",
      "0.00010014398139901459\n",
      "\n",
      "Parameter containing:\n",
      "tensor([[-5.6032, -5.6013],\n",
      "        [-6.9678, -6.9575]], requires_grad=True)\n",
      "Parameter containing:\n",
      "tensor([8.3615, 2.9483], requires_grad=True)\n",
      "Parameter containing:\n",
      "tensor([[ 12.0928, -12.2664]], requires_grad=True)\n",
      "Parameter containing:\n",
      "tensor([-5.8078], requires_grad=True)\n"
     ]
    }
   ],
   "source": [
    "model = nn.Sequential(\n",
    "    nn.Linear(2, 2, bias=True),\n",
    "    nn.Sigmoid(),\n",
    "    nn.Linear(2, 1, bias=True),\n",
    "    nn.Sigmoid()\n",
    ")\n",
    "\n",
    "outputs = torch.tensor([[0], [0], [1], [1]])\n",
    "\n",
    "loss_fn = nn.MSELoss(reduction='sum')\n",
    "\n",
    "model.zero_grad()\n",
    "\n",
    "optimizer = torch.optim.SGD(model.parameters(), lr=0.1)\n",
    "\n",
    "with torch.no_grad():\n",
    "    for param in model.parameters():\n",
    "        print(param)\n",
    "lossT = 10\n",
    "iteration = 0\n",
    "while lossT >= 0.0001:\n",
    "    if iteration % 10000 == 0:\n",
    "        print(lossT)\n",
    "    iteration+=1\n",
    "    loss = loss_fn(model(inputs), outputs.float())\n",
    "    optimizer.zero_grad()\n",
    "\n",
    "    loss.backward()\n",
    "    optimizer.step()\n",
    "    lossT = loss.item()\n",
    "    \n",
    "print()\n",
    "with torch.no_grad():\n",
    "    for param in model.parameters():\n",
    "        print(param)\n",
    "        "
   ]
  },
  {
   "cell_type": "code",
   "execution_count": 5,
   "metadata": {},
   "outputs": [],
   "source": [
    "torch.save(model, \"/cluster/2023rreddy/ML-Course/Unit7/model2.pt\")"
   ]
  },
  {
   "cell_type": "code",
   "execution_count": 6,
   "metadata": {},
   "outputs": [
    {
     "name": "stdout",
     "output_type": "stream",
     "text": [
      "Parameter containing:\n",
      "tensor([[-0.4385,  0.2466],\n",
      "        [-0.6014, -0.0166]], requires_grad=True)\n",
      "Parameter containing:\n",
      "tensor([0.6674, 0.1354], requires_grad=True)\n",
      "Parameter containing:\n",
      "tensor([[ 0.4798, -0.6967]], requires_grad=True)\n",
      "Parameter containing:\n",
      "tensor([-0.7004], requires_grad=True)\n",
      "10\n",
      "0.00398264778777957\n",
      "0.0015959633747115731\n",
      "0.000985219026915729\n",
      "0.0007093870081007481\n",
      "0.0005530084599740803\n",
      "0.0004525556287262589\n",
      "0.00038272791425697505\n",
      "0.00033138974686153233\n",
      "0.00029190356144681573\n",
      "0.000261019536992535\n",
      "0.00023592659272253513\n",
      "0.00021514296531677246\n",
      "0.00019789731595665216\n",
      "0.00018296053167432547\n",
      "0.00017031101742759347\n",
      "0.0001590722386026755\n",
      "0.00014944943541195244\n",
      "0.0001404298236593604\n",
      "0.00013286908506415784\n",
      "0.00012622513168025762\n",
      "0.00011991145584033802\n",
      "0.00011397140769986436\n",
      "0.00010894205479416996\n",
      "0.00010453529830556363\n",
      "0.00010031761485151947\n",
      "\n",
      "Parameter containing:\n",
      "tensor([[-5.6552, -5.6549],\n",
      "        [-6.8314, -6.8300]], requires_grad=True)\n",
      "Parameter containing:\n",
      "tensor([8.4422, 2.8832], requires_grad=True)\n",
      "Parameter containing:\n",
      "tensor([[ 12.0709, -12.3048]], requires_grad=True)\n",
      "Parameter containing:\n",
      "tensor([-5.7894], requires_grad=True)\n"
     ]
    }
   ],
   "source": [
    "model = nn.Sequential(\n",
    "    nn.Linear(2, 2, bias=True),\n",
    "    nn.Sigmoid(),\n",
    "    nn.Linear(2, 1, bias=True),\n",
    "    nn.Sigmoid()\n",
    ")\n",
    "\n",
    "outputs = torch.tensor([[0], [0], [1], [1]])\n",
    "\n",
    "loss_fn = nn.MSELoss(reduction='sum')\n",
    "\n",
    "model.zero_grad()\n",
    "\n",
    "optimizer = torch.optim.SGD(model.parameters(), lr=0.1)\n",
    "\n",
    "with torch.no_grad():\n",
    "    for param in model.parameters():\n",
    "        print(param)\n",
    "lossT = 10\n",
    "iteration = 0\n",
    "while lossT >= 0.0001:\n",
    "    if iteration % 10000 == 0:\n",
    "        print(lossT)\n",
    "    iteration+=1\n",
    "    loss = loss_fn(model(inputs), outputs.float())\n",
    "    optimizer.zero_grad()\n",
    "\n",
    "    loss.backward()\n",
    "    optimizer.step()\n",
    "    lossT = loss.item()\n",
    "    \n",
    "print()\n",
    "with torch.no_grad():\n",
    "    for param in model.parameters():\n",
    "        print(param)\n",
    "        "
   ]
  },
  {
   "cell_type": "code",
   "execution_count": 7,
   "metadata": {},
   "outputs": [],
   "source": [
    "torch.save(model, \"/cluster/2023rreddy/ML-Course/Unit7/model3.pt\")"
   ]
  },
  {
   "cell_type": "code",
   "execution_count": 12,
   "metadata": {},
   "outputs": [
    {
     "name": "stdout",
     "output_type": "stream",
     "text": [
      "Parameter containing:\n",
      "tensor([[5.3212, 5.3159],\n",
      "        [7.1843, 7.1589]], requires_grad=True)\n",
      "Parameter containing:\n",
      "tensor([-8.1456, -3.2733], requires_grad=True)\n",
      "Parameter containing:\n",
      "tensor([[-12.5746,  11.8909]], requires_grad=True)\n",
      "Parameter containing:\n",
      "tensor([-5.6028], requires_grad=True)\n"
     ]
    }
   ],
   "source": [
    "model = torch.load(\"/cluster/2023rreddy/ML-Course/Unit7/model1.pt\")\n",
    "with torch.no_grad():\n",
    "    for param in model.parameters():\n",
    "        print(param)"
   ]
  },
  {
   "cell_type": "code",
   "execution_count": 13,
   "metadata": {},
   "outputs": [
    {
     "name": "stdout",
     "output_type": "stream",
     "text": [
      "Parameter containing:\n",
      "tensor([[-5.6032, -5.6013],\n",
      "        [-6.9678, -6.9575]], requires_grad=True)\n",
      "Parameter containing:\n",
      "tensor([8.3615, 2.9483], requires_grad=True)\n",
      "Parameter containing:\n",
      "tensor([[ 12.0928, -12.2664]], requires_grad=True)\n",
      "Parameter containing:\n",
      "tensor([-5.8078], requires_grad=True)\n"
     ]
    }
   ],
   "source": [
    "model = torch.load(\"/cluster/2023rreddy/ML-Course/Unit7/model2.pt\")\n",
    "with torch.no_grad():\n",
    "    for param in model.parameters():\n",
    "        print(param)"
   ]
  },
  {
   "cell_type": "code",
   "execution_count": 14,
   "metadata": {},
   "outputs": [
    {
     "name": "stdout",
     "output_type": "stream",
     "text": [
      "Parameter containing:\n",
      "tensor([[-5.6552, -5.6549],\n",
      "        [-6.8314, -6.8300]], requires_grad=True)\n",
      "Parameter containing:\n",
      "tensor([8.4422, 2.8832], requires_grad=True)\n",
      "Parameter containing:\n",
      "tensor([[ 12.0709, -12.3048]], requires_grad=True)\n",
      "Parameter containing:\n",
      "tensor([-5.7894], requires_grad=True)\n"
     ]
    }
   ],
   "source": [
    "model = torch.load(\"/cluster/2023rreddy/ML-Course/Unit7/model3.pt\")\n",
    "with torch.no_grad():\n",
    "    for param in model.parameters():\n",
    "        print(param)"
   ]
  },
  {
   "cell_type": "code",
   "execution_count": null,
   "metadata": {},
   "outputs": [],
   "source": []
  }
 ],
 "metadata": {
  "kernelspec": {
   "display_name": "Machine-Learning",
   "language": "python",
   "name": "ml"
  },
  "language_info": {
   "codemirror_mode": {
    "name": "ipython",
    "version": 3
   },
   "file_extension": ".py",
   "mimetype": "text/x-python",
   "name": "python",
   "nbconvert_exporter": "python",
   "pygments_lexer": "ipython3",
   "version": "3.8.5"
  }
 },
 "nbformat": 4,
 "nbformat_minor": 4
}
