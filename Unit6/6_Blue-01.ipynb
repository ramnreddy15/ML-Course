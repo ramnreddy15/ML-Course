{
 "cells": [
  {
   "cell_type": "code",
   "execution_count": 10,
   "metadata": {},
   "outputs": [
    {
     "name": "stdout",
     "output_type": "stream",
     "text": [
      "tensor([[0.],\n",
      "        [1.]])\n"
     ]
    }
   ],
   "source": [
    "#\n",
    "import torch\n",
    "import torch.nn as nn\n",
    "#\n",
    "inputs = torch . tensor( [ [ 0.0 ] , [ 1.0 ] ] )\n",
    "#\n",
    "print( inputs )\n",
    "#"
   ]
  },
  {
   "cell_type": "code",
   "execution_count": 11,
   "metadata": {},
   "outputs": [
    {
     "name": "stdout",
     "output_type": "stream",
     "text": [
      "Item loss: 0.5610109567642212\n",
      "Before step\n",
      "None\n",
      "None\n",
      "After step\n",
      "tensor([[0.2963]])\n",
      "tensor([0.1459])\n"
     ]
    }
   ],
   "source": [
    "weights = (-1,1)\n",
    "learning_rate = 0.1\n",
    "\n",
    "model = nn.Sequential(\n",
    "    nn.Linear(1, 1, bias=True),\n",
    "    nn.Sigmoid()\n",
    ")\n",
    "\n",
    "lossTimeX = []\n",
    "lossTimeY = []\n",
    "\n",
    "# with torch.no_grad():\n",
    "#     model[0].weight.fill_(weights[1])\n",
    "#     model[0].bias.fill_(weights[0])\n",
    "#     print(model(inputs))\n",
    "\n",
    "outputs = torch.tensor([[1], [0]])\n",
    "\n",
    "loss_fn = nn.MSELoss(reduction='sum')\n",
    "\n",
    "optimizer = torch.optim.SGD(model.parameters(), lr=0.1)\n",
    "\n",
    "loss = loss_fn(model(inputs), outputs.float())\n",
    "\n",
    "print(\"Item loss:\",loss.item())\n",
    "lossTimeY.append(loss.item())\n",
    "\n",
    "model.zero_grad()\n",
    "optimizer.zero_grad()\n",
    "print(\"Before step\")\n",
    "with torch.no_grad():\n",
    "    for param in model.parameters():\n",
    "        print(param.grad)\n",
    "loss.backward()\n",
    "optimizer.step()\n",
    "print(\"After step\")\n",
    "with torch.no_grad():\n",
    "    for param in model.parameters():\n",
    "        print(param.grad)"
   ]
  },
  {
   "cell_type": "code",
   "execution_count": 12,
   "metadata": {},
   "outputs": [
    {
     "name": "stdout",
     "output_type": "stream",
     "text": [
      "tensor([[0.2963]])\n",
      "tensor([0.1459])\n"
     ]
    }
   ],
   "source": [
    "with torch.no_grad():\n",
    "    for param in model.parameters():\n",
    "        print(param.grad)"
   ]
  },
  {
   "cell_type": "code",
   "execution_count": null,
   "metadata": {},
   "outputs": [],
   "source": []
  }
 ],
 "metadata": {
  "kernelspec": {
   "display_name": "Machine-Learning",
   "language": "python",
   "name": "ml"
  },
  "language_info": {
   "codemirror_mode": {
    "name": "ipython",
    "version": 3
   },
   "file_extension": ".py",
   "mimetype": "text/x-python",
   "name": "python",
   "nbconvert_exporter": "python",
   "pygments_lexer": "ipython3",
   "version": "3.8.5"
  }
 },
 "nbformat": 4,
 "nbformat_minor": 4
}
