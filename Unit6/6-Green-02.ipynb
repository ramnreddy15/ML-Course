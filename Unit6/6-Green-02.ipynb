{
 "cells": [
  {
   "cell_type": "code",
   "execution_count": 1,
   "metadata": {},
   "outputs": [
    {
     "name": "stdout",
     "output_type": "stream",
     "text": [
      "tensor([[0.],\n",
      "        [1.]])\n"
     ]
    }
   ],
   "source": [
    "#\n",
    "import torch\n",
    "import torch.nn as nn\n",
    "#\n",
    "inputs = torch . tensor( [ [ 0.0 ] , [ 1.0 ] ] )\n",
    "#\n",
    "print( inputs )\n",
    "#"
   ]
  },
  {
   "cell_type": "code",
   "execution_count": 2,
   "metadata": {},
   "outputs": [
    {
     "name": "stdout",
     "output_type": "stream",
     "text": [
      "Loss item: 0.44986212253570557\n",
      "Grad function: <MseLossBackward object at 0x7f3400550130>\n",
      "Parameter containing:\n",
      "tensor([[-0.7828]], requires_grad=True)\n",
      "Param.grad tensor([[0.0672]])\n",
      "Parameter containing:\n",
      "tensor([-0.5685], requires_grad=True)\n",
      "Param.grad tensor([-0.2275])\n"
     ]
    }
   ],
   "source": [
    "weights = (-1,1)\n",
    "\n",
    "model = nn.Sequential(\n",
    "    nn.Linear(1, 1, bias=True),\n",
    "    nn.Sigmoid()\n",
    ")\n",
    "\n",
    "# with torch.no_grad():\n",
    "#     model[0].weight.fill_(weights[1])\n",
    "#     model[0].bias.fill_(weights[0])\n",
    "#     print(model(inputs))\n",
    "\n",
    "outputs = torch.tensor([[1], [0]])\n",
    "\n",
    "loss_fn = nn.MSELoss(reduction='sum')\n",
    "predictions = model(inputs)\n",
    "loss = loss_fn(predictions, outputs.float())\n",
    "print(\"Loss item:\", loss.item())\n",
    "print(\"Grad function:\", loss.grad_fn)\n",
    "\n",
    "model.zero_grad()\n",
    "loss.backward()\n",
    "\n",
    "with torch.no_grad():\n",
    "    for param in model.parameters():\n",
    "        print(param)\n",
    "        print(\"Param.grad\", param.grad)"
   ]
  },
  {
   "cell_type": "code",
   "execution_count": null,
   "metadata": {},
   "outputs": [],
   "source": []
  }
 ],
 "metadata": {
  "kernelspec": {
   "display_name": "Machine-Learning",
   "language": "python",
   "name": "ml"
  },
  "language_info": {
   "codemirror_mode": {
    "name": "ipython",
    "version": 3
   },
   "file_extension": ".py",
   "mimetype": "text/x-python",
   "name": "python",
   "nbconvert_exporter": "python",
   "pygments_lexer": "ipython3",
   "version": "3.8.5"
  }
 },
 "nbformat": 4,
 "nbformat_minor": 4
}
