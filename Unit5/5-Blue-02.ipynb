{
 "cells": [
  {
   "cell_type": "code",
   "execution_count": 1,
   "metadata": {},
   "outputs": [],
   "source": [
    "import numpy as np\n",
    "import matplotlib.pyplot as plt\n",
    "import matplotlib as mpl\n",
    "# cmap = mpl . colormaps[ 'Greens' ]\n",
    "# cval = cmap( 0.5 , bytes = True ) # RGBA, 0-255g"
   ]
  },
  {
   "cell_type": "code",
   "execution_count": 2,
   "metadata": {},
   "outputs": [],
   "source": [
    "import math\n",
    "import csv\n",
    "\n",
    "X = []\n",
    "Y = []\n",
    "with open('faithful.csv', newline='') as csvfile:\n",
    "    reader = csv.reader(csvfile, delimiter=',', quotechar='|')\n",
    "    next(reader)\n",
    "    for row in reader:\n",
    "        X.append(float(row[0]))\n",
    "        Y.append(float(row[1]))"
   ]
  },
  {
   "cell_type": "code",
   "execution_count": 3,
   "metadata": {},
   "outputs": [],
   "source": [
    "muX = sum(X)/len(X)\n",
    "muY = sum(Y)/len(Y)\n",
    "sigmaX = math.sqrt(sum([pow(muX - x,2) for x in X])/(len(X)-1))\n",
    "sigmaY = math.sqrt(sum([pow(muY - y,2) for y in Y])/(len(Y)-1))"
   ]
  },
  {
   "cell_type": "code",
   "execution_count": 4,
   "metadata": {},
   "outputs": [],
   "source": [
    "transX = [(x-muX)/sigmaX for x in X]\n",
    "transY = [(y-muY)/sigmaY for y in Y]\n",
    "addi = []\n",
    "for i in range(len(transX)):\n",
    "    addi.append(transX[i]+transY[i])"
   ]
  },
  {
   "cell_type": "code",
   "execution_count": 5,
   "metadata": {},
   "outputs": [],
   "source": [
    "norm = mpl.colors.Normalize(vmin=min(addi), vmax=max(addi))"
   ]
  },
  {
   "cell_type": "code",
   "execution_count": 6,
   "metadata": {},
   "outputs": [],
   "source": [
    "import numpy as np\n",
    "import matplotlib.pyplot as plt\n",
    "\n",
    "x1 = np . linspace( -2.0 , 2.0 , 100 )\n",
    "x2 = np . linspace( -2.0 , 2.0 , 101 ) # not square\n",
    "\n",
    "X1 , X2 = np . meshgrid( x2 , x1 ) # or change indexing\n",
    "\n",
    "m = np . array( [ -1.25 , 1 ] )\n",
    "s = np . array( [ [ 0.25 , 0.0 ] , [ 0.0 , 0.25 ] ] )\n",
    "\n",
    "def f( x1 , x2 ) :\n",
    "\n",
    "    dx = ( np . array( [ x1 , x2 ] ) - m ) . reshape( -1 , 1 )\n",
    "\n",
    "    sinv = np . linalg . inv( s )\n",
    "\n",
    "    p = m . size # number of inputs\n",
    "\n",
    "    sf = np . power( 2.0 * np . pi , p / 2.0 ) * np . sqrt( np . linalg .det( s ) )\n",
    "\n",
    "    return 1.0 / sf * np . exp( -0.5 * ( ( dx . T @ sinv ) @ dx ) )\n",
    "\n",
    "Pk = 0.5\n",
    "\n",
    "vf = np . vectorize( f ) # to match the matrix dimension broadcasting meshgrid\n",
    "\n",
    "Y = vf( X1 , X2 )\n",
    "m = np . array( [ 1.25 , -0.75 ] )\n",
    "Y2 = vf( X1 , X2 )"
   ]
  },
  {
   "cell_type": "code",
   "execution_count": null,
   "metadata": {},
   "outputs": [],
   "source": [
    "import matplotlib.pyplot as plt\n",
    "\n",
    "fig, ax = plt.subplots()\n",
    "\n",
    "# Y=Y+Y2\n",
    "# ax . contour( X1 , X2  , Y, [ 0.5 ] , colors = [ '#0000ff' ] , linewidths = 2 )\n",
    "# ax . contour( X1 , X2  , Y2, [ 0.5 ] , colors = [ '#ff0000' ] , linewidths = 2 )\n",
    "\n",
    "# norm = colors.Normalize(vmin=-1.25, vmax=1.25)\n",
    "# plt.scatter(transX,transY, c=,norm=norm)\n",
    "\n",
    "# for i in range(len(data)):\n",
    "#     xLoc = int((norm1(data[i][0]) + .13) / 1.3 * 100)\n",
    "#     yLoc = int((norm2(data[i][1]) + .13) / 1.3 * 100)\n",
    "#     plt.scatter(data[i][0], data[i][1], c = [[percents[xLoc][0][yLoc], 0, percents[xLoc][1][yLoc]]])\n",
    "\n",
    "norm1 = mpl.colors.Normalize(vmin = min(transX), vmax = max(transX))\n",
    "norm2 = mpl.colors.Normalize(vmin = min(transY), vmax = max(transY))\n",
    "    \n",
    "percents = []\n",
    "for i in range(5):\n",
    "    \n",
    "    Pk = 0.5\n",
    "    grad1 = Pk*Y\n",
    "    grad2 = Pk*Y2\n",
    "\n",
    "    rednorm = mpl.colors.Normalize(vmin=min(grad1.flatten()), vmax=max(grad1.flatten()))\n",
    "    greennorm = mpl.colors.Normalize(vmin=min(grad2.flatten()), vmax=max(grad2.flatten()))\n",
    "\n",
    "    for j in range(len(grad1)):\n",
    "        one = rednorm(grad1[j])\n",
    "        two = greennorm(grad2[j])\n",
    "        redPercent = one / (one+two)\n",
    "        bluePercent = two / (one+two)\n",
    "        percents.append([redPercent,bluePercent])\n",
    "\n",
    "    sumXr = 0\n",
    "    sumYr = 0\n",
    "    sumXb = 0\n",
    "    sumYb = 0\n",
    "\n",
    "    for j in range(len(transX)):\n",
    "        x = int((norm1(transX[j]) + .13) / 1.3 * 100)\n",
    "        y = int((norm2(transY[j]) + .13) / 1.3 * 100)\n",
    "        sumXr+=transX[j]*percents[x][0][y]\n",
    "        sumYr+=transY[j]*percents[x][0][y]\n",
    "        sumXb+=transX[j]*percents[x][1][y]\n",
    "        sumYb+=transY[j]*percents[x][1][y]\n",
    "        if(i==0):\n",
    "            plt.scatter(transX[j], transY[j], c=[[percents[x][0][y], 0, percents[x][1][y]]])\n",
    "\n",
    "        m = np.array([-0.5,-0.75])\n",
    "#     for j in range(len(transX)):\n",
    "#         dx = (transX[j] - m[0]) * (transX[j]-m[0]).T\n",
    "#         dy = (transY[j] - m[1]) * (transY[j]-m[1]).T\n",
    "#         variance = grad1.flatten()[j] * np.array([[dx**2, dx*dy], [dx*dy,dy**2]])\n",
    "#         s1+=variance\n",
    "#     s1/=len(transX)\n",
    "    s = np.array([[0.467,0.500],[0.500,0.630]])\n",
    "    Y = vf( X1 , X2 )\n",
    "    m = np.array([0.5,.75])\n",
    "#     for j in range(len(transX)):\n",
    "#         dx = (transX[j] - m[0]) * (transX[j]-m[0]).T\n",
    "#         dy = (transY[j] - m[1]) * (transY[j]-m[1]).T\n",
    "#         variance = grad2.flatten()[j] * np.array([[dx**2, dx*dy], [dx*dy,dy**2]])\n",
    "#         s2+=variance\n",
    "    s = np.array([[0.202,0.176],[0.176,0.219]])\n",
    "    Y2 = vf( X1 , X2 )\n",
    "\n",
    "ax . contour( X1 , X2  , Y2, [ 0.5 ] , colors = [ '#0000ff' ] , linewidths = 2 )\n",
    "ax . contour( X1 , X2  , Y, [ 0.5 ] , colors = [ '#ff0000' ] , linewidths = 2 )\n",
    "\n",
    "ax.legend()\n",
    "ax.axis('auto')\n",
    "plt.show()"
   ]
  },
  {
   "cell_type": "code",
   "execution_count": 8,
   "metadata": {},
   "outputs": [
    {
     "name": "stderr",
     "output_type": "stream",
     "text": [
      "/tmp/ipykernel_1634041/3067693334.py:8: VisibleDeprecationWarning: Creating an ndarray from ragged nested sequences (which is a list-or-tuple of lists-or-tuples-or ndarrays with different lengths or shapes) is deprecated. If you meant to do this, you must specify 'dtype=object' when creating the ndarray.\n",
      "  s = np.array([[0.467,0,500],[0,500,0,630]])\n"
     ]
    },
    {
     "ename": "LinAlgError",
     "evalue": "1-dimensional array given. Array must be at least two-dimensional",
     "output_type": "error",
     "traceback": [
      "\u001b[0;31m---------------------------------------------------------------------------\u001b[0m",
      "\u001b[0;31mLinAlgError\u001b[0m                               Traceback (most recent call last)",
      "Input \u001b[0;32mIn [8]\u001b[0m, in \u001b[0;36m<cell line: 9>\u001b[0;34m()\u001b[0m\n\u001b[1;32m      2\u001b[0m \u001b[38;5;66;03m#     for j in range(len(transX)):\u001b[39;00m\n\u001b[1;32m      3\u001b[0m \u001b[38;5;66;03m#         dx = (transX[j] - m[0]) * (transX[j]-m[0]).T\u001b[39;00m\n\u001b[1;32m      4\u001b[0m \u001b[38;5;66;03m#         dy = (transY[j] - m[1]) * (transY[j]-m[1]).T\u001b[39;00m\n\u001b[1;32m      5\u001b[0m \u001b[38;5;66;03m#         variance = grad1.flatten()[j] * np.array([[dx**2, dx*dy], [dx*dy,dy**2]])\u001b[39;00m\n\u001b[1;32m      6\u001b[0m \u001b[38;5;66;03m#         s1+=variance\u001b[39;00m\n\u001b[1;32m      7\u001b[0m \u001b[38;5;66;03m#     s1/=len(transX)\u001b[39;00m\n\u001b[1;32m      8\u001b[0m s \u001b[38;5;241m=\u001b[39m np\u001b[38;5;241m.\u001b[39marray([[\u001b[38;5;241m0.467\u001b[39m,\u001b[38;5;241m0\u001b[39m,\u001b[38;5;241m500\u001b[39m],[\u001b[38;5;241m0\u001b[39m,\u001b[38;5;241m500\u001b[39m,\u001b[38;5;241m0\u001b[39m,\u001b[38;5;241m630\u001b[39m]])\n\u001b[0;32m----> 9\u001b[0m Y \u001b[38;5;241m=\u001b[39m \u001b[43mvf\u001b[49m\u001b[43m(\u001b[49m\u001b[43m \u001b[49m\u001b[43mX1\u001b[49m\u001b[43m \u001b[49m\u001b[43m,\u001b[49m\u001b[43m \u001b[49m\u001b[43mX2\u001b[49m\u001b[43m \u001b[49m\u001b[43m)\u001b[49m\n\u001b[1;32m     10\u001b[0m m \u001b[38;5;241m=\u001b[39m np\u001b[38;5;241m.\u001b[39marray([sumYb\u001b[38;5;241m/\u001b[39m\u001b[38;5;241m272\u001b[39m,sumYb\u001b[38;5;241m/\u001b[39m\u001b[38;5;241m272\u001b[39m])\n\u001b[1;32m     11\u001b[0m \u001b[38;5;66;03m#     for j in range(len(transX)):\u001b[39;00m\n\u001b[1;32m     12\u001b[0m \u001b[38;5;66;03m#         dx = (transX[j] - m[0]) * (transX[j]-m[0]).T\u001b[39;00m\n\u001b[1;32m     13\u001b[0m \u001b[38;5;66;03m#         dy = (transY[j] - m[1]) * (transY[j]-m[1]).T\u001b[39;00m\n\u001b[1;32m     14\u001b[0m \u001b[38;5;66;03m#         variance = grad2.flatten()[j] * np.array([[dx**2, dx*dy], [dx*dy,dy**2]])\u001b[39;00m\n\u001b[1;32m     15\u001b[0m \u001b[38;5;66;03m#         s2+=variance\u001b[39;00m\n",
      "File \u001b[0;32m~/.local/lib/python3.8/site-packages/numpy/lib/function_base.py:2304\u001b[0m, in \u001b[0;36mvectorize.__call__\u001b[0;34m(self, *args, **kwargs)\u001b[0m\n\u001b[1;32m   2301\u001b[0m     vargs \u001b[38;5;241m=\u001b[39m [args[_i] \u001b[38;5;28;01mfor\u001b[39;00m _i \u001b[38;5;129;01min\u001b[39;00m inds]\n\u001b[1;32m   2302\u001b[0m     vargs\u001b[38;5;241m.\u001b[39mextend([kwargs[_n] \u001b[38;5;28;01mfor\u001b[39;00m _n \u001b[38;5;129;01min\u001b[39;00m names])\n\u001b[0;32m-> 2304\u001b[0m \u001b[38;5;28;01mreturn\u001b[39;00m \u001b[38;5;28;43mself\u001b[39;49m\u001b[38;5;241;43m.\u001b[39;49m\u001b[43m_vectorize_call\u001b[49m\u001b[43m(\u001b[49m\u001b[43mfunc\u001b[49m\u001b[38;5;241;43m=\u001b[39;49m\u001b[43mfunc\u001b[49m\u001b[43m,\u001b[49m\u001b[43m \u001b[49m\u001b[43margs\u001b[49m\u001b[38;5;241;43m=\u001b[39;49m\u001b[43mvargs\u001b[49m\u001b[43m)\u001b[49m\n",
      "File \u001b[0;32m~/.local/lib/python3.8/site-packages/numpy/lib/function_base.py:2382\u001b[0m, in \u001b[0;36mvectorize._vectorize_call\u001b[0;34m(self, func, args)\u001b[0m\n\u001b[1;32m   2380\u001b[0m     res \u001b[38;5;241m=\u001b[39m func()\n\u001b[1;32m   2381\u001b[0m \u001b[38;5;28;01melse\u001b[39;00m:\n\u001b[0;32m-> 2382\u001b[0m     ufunc, otypes \u001b[38;5;241m=\u001b[39m \u001b[38;5;28;43mself\u001b[39;49m\u001b[38;5;241;43m.\u001b[39;49m\u001b[43m_get_ufunc_and_otypes\u001b[49m\u001b[43m(\u001b[49m\u001b[43mfunc\u001b[49m\u001b[38;5;241;43m=\u001b[39;49m\u001b[43mfunc\u001b[49m\u001b[43m,\u001b[49m\u001b[43m \u001b[49m\u001b[43margs\u001b[49m\u001b[38;5;241;43m=\u001b[39;49m\u001b[43margs\u001b[49m\u001b[43m)\u001b[49m\n\u001b[1;32m   2384\u001b[0m     \u001b[38;5;66;03m# Convert args to object arrays first\u001b[39;00m\n\u001b[1;32m   2385\u001b[0m     inputs \u001b[38;5;241m=\u001b[39m [asanyarray(a, dtype\u001b[38;5;241m=\u001b[39m\u001b[38;5;28mobject\u001b[39m) \u001b[38;5;28;01mfor\u001b[39;00m a \u001b[38;5;129;01min\u001b[39;00m args]\n",
      "File \u001b[0;32m~/.local/lib/python3.8/site-packages/numpy/lib/function_base.py:2342\u001b[0m, in \u001b[0;36mvectorize._get_ufunc_and_otypes\u001b[0;34m(self, func, args)\u001b[0m\n\u001b[1;32m   2338\u001b[0m     \u001b[38;5;28;01mraise\u001b[39;00m \u001b[38;5;167;01mValueError\u001b[39;00m(\u001b[38;5;124m'\u001b[39m\u001b[38;5;124mcannot call `vectorize` on size 0 inputs \u001b[39m\u001b[38;5;124m'\u001b[39m\n\u001b[1;32m   2339\u001b[0m                      \u001b[38;5;124m'\u001b[39m\u001b[38;5;124munless `otypes` is set\u001b[39m\u001b[38;5;124m'\u001b[39m)\n\u001b[1;32m   2341\u001b[0m inputs \u001b[38;5;241m=\u001b[39m [arg\u001b[38;5;241m.\u001b[39mflat[\u001b[38;5;241m0\u001b[39m] \u001b[38;5;28;01mfor\u001b[39;00m arg \u001b[38;5;129;01min\u001b[39;00m args]\n\u001b[0;32m-> 2342\u001b[0m outputs \u001b[38;5;241m=\u001b[39m \u001b[43mfunc\u001b[49m\u001b[43m(\u001b[49m\u001b[38;5;241;43m*\u001b[39;49m\u001b[43minputs\u001b[49m\u001b[43m)\u001b[49m\n\u001b[1;32m   2344\u001b[0m \u001b[38;5;66;03m# Performance note: profiling indicates that -- for simple\u001b[39;00m\n\u001b[1;32m   2345\u001b[0m \u001b[38;5;66;03m# functions at least -- this wrapping can almost double the\u001b[39;00m\n\u001b[1;32m   2346\u001b[0m \u001b[38;5;66;03m# execution time.\u001b[39;00m\n\u001b[1;32m   2347\u001b[0m \u001b[38;5;66;03m# Hence we make it optional.\u001b[39;00m\n\u001b[1;32m   2348\u001b[0m \u001b[38;5;28;01mif\u001b[39;00m \u001b[38;5;28mself\u001b[39m\u001b[38;5;241m.\u001b[39mcache:\n",
      "Input \u001b[0;32mIn [6]\u001b[0m, in \u001b[0;36mf\u001b[0;34m(x1, x2)\u001b[0m\n\u001b[1;32m     12\u001b[0m \u001b[38;5;28;01mdef\u001b[39;00m \u001b[38;5;21mf\u001b[39m( x1 , x2 ) :\n\u001b[1;32m     14\u001b[0m     dx \u001b[38;5;241m=\u001b[39m ( np \u001b[38;5;241m.\u001b[39m array( [ x1 , x2 ] ) \u001b[38;5;241m-\u001b[39m m ) \u001b[38;5;241m.\u001b[39m reshape( \u001b[38;5;241m-\u001b[39m\u001b[38;5;241m1\u001b[39m , \u001b[38;5;241m1\u001b[39m )\n\u001b[0;32m---> 16\u001b[0m     sinv \u001b[38;5;241m=\u001b[39m \u001b[43mnp\u001b[49m\u001b[43m \u001b[49m\u001b[38;5;241;43m.\u001b[39;49m\u001b[43m \u001b[49m\u001b[43mlinalg\u001b[49m\u001b[43m \u001b[49m\u001b[38;5;241;43m.\u001b[39;49m\u001b[43m \u001b[49m\u001b[43minv\u001b[49m\u001b[43m(\u001b[49m\u001b[43m \u001b[49m\u001b[43ms\u001b[49m\u001b[43m \u001b[49m\u001b[43m)\u001b[49m\n\u001b[1;32m     18\u001b[0m     p \u001b[38;5;241m=\u001b[39m m \u001b[38;5;241m.\u001b[39m size \u001b[38;5;66;03m# number of inputs\u001b[39;00m\n\u001b[1;32m     20\u001b[0m     sf \u001b[38;5;241m=\u001b[39m np \u001b[38;5;241m.\u001b[39m power( \u001b[38;5;241m2.0\u001b[39m \u001b[38;5;241m*\u001b[39m np \u001b[38;5;241m.\u001b[39m pi , p \u001b[38;5;241m/\u001b[39m \u001b[38;5;241m2.0\u001b[39m ) \u001b[38;5;241m*\u001b[39m np \u001b[38;5;241m.\u001b[39m sqrt( np \u001b[38;5;241m.\u001b[39m linalg \u001b[38;5;241m.\u001b[39mdet( s ) )\n",
      "File \u001b[0;32m<__array_function__ internals>:180\u001b[0m, in \u001b[0;36minv\u001b[0;34m(*args, **kwargs)\u001b[0m\n",
      "File \u001b[0;32m~/.local/lib/python3.8/site-packages/numpy/linalg/linalg.py:539\u001b[0m, in \u001b[0;36minv\u001b[0;34m(a)\u001b[0m\n\u001b[1;32m    478\u001b[0m \u001b[38;5;124;03m\"\"\"\u001b[39;00m\n\u001b[1;32m    479\u001b[0m \u001b[38;5;124;03mCompute the (multiplicative) inverse of a matrix.\u001b[39;00m\n\u001b[1;32m    480\u001b[0m \n\u001b[0;32m   (...)\u001b[0m\n\u001b[1;32m    536\u001b[0m \n\u001b[1;32m    537\u001b[0m \u001b[38;5;124;03m\"\"\"\u001b[39;00m\n\u001b[1;32m    538\u001b[0m a, wrap \u001b[38;5;241m=\u001b[39m _makearray(a)\n\u001b[0;32m--> 539\u001b[0m \u001b[43m_assert_stacked_2d\u001b[49m\u001b[43m(\u001b[49m\u001b[43ma\u001b[49m\u001b[43m)\u001b[49m\n\u001b[1;32m    540\u001b[0m _assert_stacked_square(a)\n\u001b[1;32m    541\u001b[0m t, result_t \u001b[38;5;241m=\u001b[39m _commonType(a)\n",
      "File \u001b[0;32m~/.local/lib/python3.8/site-packages/numpy/linalg/linalg.py:196\u001b[0m, in \u001b[0;36m_assert_stacked_2d\u001b[0;34m(*arrays)\u001b[0m\n\u001b[1;32m    194\u001b[0m \u001b[38;5;28;01mfor\u001b[39;00m a \u001b[38;5;129;01min\u001b[39;00m arrays:\n\u001b[1;32m    195\u001b[0m     \u001b[38;5;28;01mif\u001b[39;00m a\u001b[38;5;241m.\u001b[39mndim \u001b[38;5;241m<\u001b[39m \u001b[38;5;241m2\u001b[39m:\n\u001b[0;32m--> 196\u001b[0m         \u001b[38;5;28;01mraise\u001b[39;00m LinAlgError(\u001b[38;5;124m'\u001b[39m\u001b[38;5;132;01m%d\u001b[39;00m\u001b[38;5;124m-dimensional array given. Array must be \u001b[39m\u001b[38;5;124m'\u001b[39m\n\u001b[1;32m    197\u001b[0m                 \u001b[38;5;124m'\u001b[39m\u001b[38;5;124mat least two-dimensional\u001b[39m\u001b[38;5;124m'\u001b[39m \u001b[38;5;241m%\u001b[39m a\u001b[38;5;241m.\u001b[39mndim)\n",
      "\u001b[0;31mLinAlgError\u001b[0m: 1-dimensional array given. Array must be at least two-dimensional"
     ]
    }
   ],
   "source": [
    "    m = np.array([sumXr/272,sumYr/272])\n",
    "#     for j in range(len(transX)):\n",
    "#         dx = (transX[j] - m[0]) * (transX[j]-m[0]).T\n",
    "#         dy = (transY[j] - m[1]) * (transY[j]-m[1]).T\n",
    "#         variance = grad1.flatten()[j] * np.array([[dx**2, dx*dy], [dx*dy,dy**2]])\n",
    "#         s1+=variance\n",
    "#     s1/=len(transX)\n",
    "    s = np.array([[0.467,0,500],[0,500,0,630]])\n",
    "    Y = vf( X1 , X2 )\n",
    "    m = np.array([sumYb/272,sumYb/272])\n",
    "#     for j in range(len(transX)):\n",
    "#         dx = (transX[j] - m[0]) * (transX[j]-m[0]).T\n",
    "#         dy = (transY[j] - m[1]) * (transY[j]-m[1]).T\n",
    "#         variance = grad2.flatten()[j] * np.array([[dx**2, dx*dy], [dx*dy,dy**2]])\n",
    "#         s2+=variance\n",
    "    s = np.array([[0.202,0.176],[0.176,0.219]])\n",
    "    Y2 = vf( X1 , X2 )"
   ]
  },
  {
   "cell_type": "code",
   "execution_count": null,
   "metadata": {},
   "outputs": [],
   "source": []
  }
 ],
 "metadata": {
  "kernelspec": {
   "display_name": "Machine-Learning",
   "language": "python",
   "name": "ml"
  },
  "language_info": {
   "codemirror_mode": {
    "name": "ipython",
    "version": 3
   },
   "file_extension": ".py",
   "mimetype": "text/x-python",
   "name": "python",
   "nbconvert_exporter": "python",
   "pygments_lexer": "ipython3",
   "version": "3.8.5"
  }
 },
 "nbformat": 4,
 "nbformat_minor": 4
}
