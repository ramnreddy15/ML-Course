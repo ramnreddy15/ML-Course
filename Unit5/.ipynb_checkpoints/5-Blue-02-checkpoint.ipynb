{
 "cells": [
  {
   "cell_type": "code",
   "execution_count": 1,
   "metadata": {},
   "outputs": [],
   "source": [
    "import numpy as np\n",
    "import matplotlib.pyplot as plt\n",
    "import matplotlib as mpl\n",
    "# cmap = mpl . colormaps[ 'Greens' ]\n",
    "# cval = cmap( 0.5 , bytes = True ) # RGBA, 0-255g"
   ]
  },
  {
   "cell_type": "code",
   "execution_count": 2,
   "metadata": {},
   "outputs": [],
   "source": [
    "import math\n",
    "import csv\n",
    "\n",
    "X = []\n",
    "Y = []\n",
    "with open('faithful.csv', newline='') as csvfile:\n",
    "    reader = csv.reader(csvfile, delimiter=',', quotechar='|')\n",
    "    next(reader)\n",
    "    for row in reader:\n",
    "        X.append(float(row[0]))\n",
    "        Y.append(float(row[1]))"
   ]
  },
  {
   "cell_type": "code",
   "execution_count": 3,
   "metadata": {},
   "outputs": [],
   "source": [
    "muX = sum(X)/len(X)\n",
    "muY = sum(Y)/len(Y)\n",
    "sigmaX = math.sqrt(sum([pow(muX - x,2) for x in X])/(len(X)-1))\n",
    "sigmaY = math.sqrt(sum([pow(muY - y,2) for y in Y])/(len(Y)-1))"
   ]
  },
  {
   "cell_type": "code",
   "execution_count": 4,
   "metadata": {},
   "outputs": [],
   "source": [
    "transX = [(x-muX)/sigmaX for x in X]\n",
    "transY = [(y-muY)/sigmaY for y in Y]\n",
    "addi = []\n",
    "for i in range(len(transX)):\n",
    "    addi.append(transX[i]+transY[i])"
   ]
  },
  {
   "cell_type": "code",
   "execution_count": 5,
   "metadata": {},
   "outputs": [],
   "source": [
    "norm = mpl.colors.Normalize(vmin=min(addi), vmax=max(addi))"
   ]
  },
  {
   "cell_type": "code",
   "execution_count": 6,
   "metadata": {},
   "outputs": [],
   "source": [
    "import numpy as np\n",
    "import matplotlib.pyplot as plt\n",
    "\n",
    "x1 = np . linspace( -2.0 , 2.0 , 100 )\n",
    "x2 = np . linspace( -2.0 , 2.0 , 101 ) # not square\n",
    "\n",
    "X1 , X2 = np . meshgrid( x2 , x1 ) # or change indexing\n",
    "\n",
    "m = np . array( [ -1.25 , 1 ] )\n",
    "s = np . array( [ [ 0.25 , 0.0 ] , [ 0.0 , 0.25 ] ] )\n",
    "\n",
    "def f( x1 , x2 ) :\n",
    "\n",
    "    dx = ( np . array( [ x1 , x2 ] ) - m ) . reshape( -1 , 1 )\n",
    "\n",
    "    sinv = np . linalg . inv( s )\n",
    "\n",
    "    p = m . size # number of inputs\n",
    "\n",
    "    sf = np . power( 2.0 * np . pi , p / 2.0 ) * np . sqrt( np . linalg .det( s ) )\n",
    "\n",
    "    return 1.0 / sf * np . exp( -0.5 * ( ( dx . T @ sinv ) @ dx ) )\n",
    "\n",
    "Pk = 0.5\n",
    "\n",
    "vf = np . vectorize( f ) # to match the matrix dimension broadcasting meshgrid\n",
    "\n",
    "Y = vf( X1 , X2 )\n",
    "m = np . array( [ 1.25 , -0.75 ] )\n",
    "Y2 = vf( X1 , X2 )"
   ]
  },
  {
   "cell_type": "code",
   "execution_count": 7,
   "metadata": {},
   "outputs": [
    {
     "name": "stderr",
     "output_type": "stream",
     "text": [
      "No artists with labels found to put in legend.  Note that artists whose label start with an underscore are ignored when legend() is called with no argument.\n"
     ]
    },
    {
     "data": {
      "image/png": "[encoded data removed]",
      "text/plain": [
       "<Figure size 640x480 with 1 Axes>"
      ]
     },
     "metadata": {},
     "output_type": "display_data"
    }
   ],
   "source": [
    "import matplotlib.pyplot as plt\n",
    "\n",
    "fig, ax = plt.subplots()\n",
    "\n",
    "# Y=Y+Y2\n",
    "# ax . contour( X1 , X2  , Y, [ 0.5 ] , colors = [ '#0000ff' ] , linewidths = 2 )\n",
    "# ax . contour( X1 , X2  , Y2, [ 0.5 ] , colors = [ '#ff0000' ] , linewidths = 2 )\n",
    "\n",
    "# norm = colors.Normalize(vmin=-1.25, vmax=1.25)\n",
    "# plt.scatter(transX,transY, c=,norm=norm)\n",
    "\n",
    "# for i in range(len(data)):\n",
    "#     xLoc = int((norm1(data[i][0]) + .13) / 1.3 * 100)\n",
    "#     yLoc = int((norm2(data[i][1]) + .13) / 1.3 * 100)\n",
    "#     plt.scatter(data[i][0], data[i][1], c = [[percents[xLoc][0][yLoc], 0, percents[xLoc][1][yLoc]]])\n",
    "\n",
    "norm1 = mpl.colors.Normalize(vmin = min(transX), vmax = max(transX))\n",
    "norm2 = mpl.colors.Normalize(vmin = min(transY), vmax = max(transY))\n",
    "    \n",
    "percents = []\n",
    "percentsOld = []\n",
    "for i in range(5):\n",
    "    \n",
    "    Pk = 0.5\n",
    "    grad1 = Pk*Y\n",
    "    grad2 = Pk*Y2\n",
    "\n",
    "    rednorm = mpl.colors.Normalize(vmin=min(grad1.flatten()), vmax=max(grad1.flatten()))\n",
    "    greennorm = mpl.colors.Normalize(vmin=min(grad2.flatten()), vmax=max(grad2.flatten()))\n",
    "\n",
    "    for i in range(len(grad1)):\n",
    "        one = rednorm(grad1[i])\n",
    "        two = greennorm(grad2[i])\n",
    "        redPercent = one / (one+two)\n",
    "        bluePercent = two / (one+two)\n",
    "        percents.append([redPercent,bluePercent])\n",
    "\n",
    "    sumXr = 0\n",
    "    sumYr = 0\n",
    "    sumXb = 0\n",
    "    sumYb = 0\n",
    "\n",
    "    for i in range(len(transX)):\n",
    "        x = int((norm1(transX[i]) + .13) / 1.3 * 100)\n",
    "        y = int((norm2(transY[i]) + .13) / 1.3 * 100)\n",
    "        sumXr+=transX[i]*percents[x][0][y]\n",
    "        sumYr+=transY[i]*percents[x][0][y]\n",
    "        sumXb+=transX[i]*percents[x][1][y]\n",
    "        sumYb+=transY[i]*percents[x][1][y]\n",
    "        if(i==0):\n",
    "            plt.scatter(transX[i], transY[i], c=[[percents[x][0][y], 0, percents[x][1][y]]])\n",
    "\n",
    "    m = np.array([sumXr/272,sumYr/272])\n",
    "    s = np . array( [ [ 0.1 , 0.1 ] , [ -0.15 , 0.15 ] ] )\n",
    "    Y = vf( X1 , X2 )\n",
    "    m = np.array([sumYb/272,sumYb/272])\n",
    "    Y2 = vf( X1 , X2 )\n",
    "    if(i==0):\n",
    "        for i in range(len(transX)):\n",
    "            x = int((norm1(transX[i]) + .13) / 1.3 * 100)\n",
    "            y = int((norm2(transY[i]) + .13) / 1.3 * 100)\n",
    "            plt.scatter(transX[i], transY[i], c=[[percents[x][0][y], 0, percents[x][1][y]]])\n",
    "\n",
    "ax . contour( X1 , X2  , Y2, [ 0.5 ] , colors = [ '#0000ff' ] , linewidths = 2 )\n",
    "ax . contour( X1 , X2  , Y, [ 0.5 ] , colors = [ '#ff0000' ] , linewidths = 2 )\n",
    "\n",
    "ax.legend()\n",
    "ax.axis('auto')\n",
    "plt.show()"
   ]
  },
  {
   "cell_type": "code",
   "execution_count": null,
   "metadata": {},
   "outputs": [],
   "source": []
  }
 ],
 "metadata": {
  "kernelspec": {
   "display_name": "Machine-Learning",
   "language": "python",
   "name": "ml"
  },
  "language_info": {
   "codemirror_mode": {
    "name": "ipython",
    "version": 3
   },
   "file_extension": ".py",
   "mimetype": "text/x-python",
   "name": "python",
   "nbconvert_exporter": "python",
   "pygments_lexer": "ipython3",
   "version": "3.8.5"
  }
 },
 "nbformat": 4,
 "nbformat_minor": 4
}
