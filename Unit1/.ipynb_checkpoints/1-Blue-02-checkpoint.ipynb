{
 "cells": [
  {
   "cell_type": "code",
   "execution_count": 5,
   "metadata": {},
   "outputs": [
    {
     "name": "stdout",
     "output_type": "stream",
     "text": [
      "Slope for TV: 0.04576464545539759\n",
      "Slope for radio: 0.18853001691820453\n",
      "Slope for newspaper: -0.0010374930424762597\n"
     ]
    }
   ],
   "source": [
    "import numpy as np\n",
    "file = open(\"./Advertising.csv\")\n",
    "csvFile = np.loadtxt(file, delimiter=\",\", skiprows=1)\n",
    "n = csvFile.shape[0]\n",
    "A = np.ones((n,4))\n",
    "Y = csvFile[:,4]\n",
    "A[:,0] = csvFile[:,1]\n",
    "A[:,1] = csvFile[:,2]\n",
    "A[:,2] = csvFile[:,3]\n",
    "B = np.ones((4,1))\n",
    "Q, R = np.linalg.qr(A, mode='complete')\n",
    "solveY = np.dot(Q.T,Y)[:4]\n",
    "vals = []\n",
    "for arr in R:\n",
    "    temp = []\n",
    "    for val in arr:\n",
    "        if val != 0:\n",
    "            temp.append(val)\n",
    "    vals = temp + vals\n",
    "\n",
    "B[0] = solveY[3]/vals[0]\n",
    "B[1] = (solveY[2]-vals[2]*B[0])/vals[1]\n",
    "B[2] = (solveY[1]-vals[5]*B[0]-vals[4]*B[1])/vals[3]\n",
    "B[3] = (solveY[0]-vals[9]*B[0]-vals[8]*B[1]-vals[7]*B[2])/vals[6]\n",
    "\n",
    "print(\"Slope for TV:\",B[3,0])\n",
    "print(\"Slope for radio:\",B[2,0])\n",
    "print(\"Slope for newspaper:\",B[1,0])\n",
    "\n",
    "YF = A.dot(B)\n",
    "RSS = 0\n",
    "for y in range (n):\n",
    "    RSS += pow(YF[y]-Y[n],2)\n",
    "print(RSS)"
   ]
  },
  {
   "cell_type": "code",
   "execution_count": 2,
   "metadata": {},
   "outputs": [
    {
     "name": "stdout",
     "output_type": "stream",
     "text": [
      "Slope for TV: 0.04753664043301977\n",
      "Slope for radio: 0.20249578339244015\n",
      "Slope for newspaper: 0.054693098472273355\n"
     ]
    }
   ],
   "source": [
    "import numpy as np\n",
    "file = open(\"./Advertising.csv\")\n",
    "csvFile = np.loadtxt(file, delimiter=\",\", skiprows=1)\n",
    "n = csvFile.shape[0]\n",
    "A = np.ones((n,2))\n",
    "A[:,0] = csvFile[:,1]\n",
    "Y = csvFile[:,4]\n",
    "\n",
    "# M = csvFile[:,0:2]\n",
    "# R = np.corrcoef(M, rowvar = False)[0,1]\n",
    "# print(\"R^2:\",R*R)\n",
    "\n",
    "Q, R = np.linalg.qr(A, mode='complete')\n",
    "QTB = (Q.T.dot(Y))\n",
    "B0 =QTB[1]/R[1,1]\n",
    "B1 = (QTB[0]-R[0,1]*B0)/R[0,0]\n",
    "print(\"Slope for TV:\",B1)\n",
    "\n",
    "A[:,0] = csvFile[:,2]\n",
    "\n",
    "# M = csvFile[:,0:2]\n",
    "# R = np.corrcoef(M, rowvar = False)[0,1]\n",
    "# print(\"R^2:\",R*R)\n",
    "\n",
    "Q, R = np.linalg.qr(A, mode='complete')\n",
    "QTB = (Q.T.dot(Y))\n",
    "B0 =QTB[1]/R[1,1]\n",
    "B1 = (QTB[0]-R[0,1]*B0)/R[0,0]\n",
    "print(\"Slope for radio:\",B1)\n",
    "\n",
    "A[:,0] = csvFile[:,3]\n",
    "\n",
    "# M = csvFile[:,0:2]\n",
    "# R = np.corrcoef(M, rowvar = False)[0,1]\n",
    "# print(\"R^2:\",R*R)\n",
    "\n",
    "Q, R = np.linalg.qr(A, mode='complete')\n",
    "QTB = (Q.T.dot(Y))\n",
    "B0 =QTB[1]/R[1,1]\n",
    "B1 = (QTB[0]-R[0,1]*B0)/R[0,0]\n",
    "print(\"Slope for newspaper:\",B1)"
   ]
  },
  {
   "cell_type": "code",
   "execution_count": null,
   "metadata": {},
   "outputs": [],
   "source": []
  }
 ],
 "metadata": {
  "kernelspec": {
   "display_name": "Machine-Learning",
   "language": "python",
   "name": "ml"
  },
  "language_info": {
   "codemirror_mode": {
    "name": "ipython",
    "version": 3
   },
   "file_extension": ".py",
   "mimetype": "text/x-python",
   "name": "python",
   "nbconvert_exporter": "python",
   "pygments_lexer": "ipython3",
   "version": "3.8.5"
  }
 },
 "nbformat": 4,
 "nbformat_minor": 4
}
