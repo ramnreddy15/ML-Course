{
 "cells": [
  {
   "cell_type": "code",
   "execution_count": 2,
   "metadata": {},
   "outputs": [],
   "source": [
    "import numpy as np"
   ]
  },
  {
   "cell_type": "code",
   "execution_count": 5,
   "metadata": {},
   "outputs": [],
   "source": [
    "file = open(\"./data.csv\")\n",
    "csvFile = np.genfromtxt(file, delimiter=\",\")"
   ]
  },
  {
   "cell_type": "code",
   "execution_count": 6,
   "metadata": {},
   "outputs": [
    {
     "name": "stdout",
     "output_type": "stream",
     "text": [
      "[[-1.5   2.    0.  ]\n",
      " [-1.    1.5   0.  ]\n",
      " [-0.75  3.    0.  ]\n",
      " [-0.7   3.    0.  ]\n",
      " [-0.75  1.    0.  ]\n",
      " [-0.5  -0.25  0.  ]\n",
      " [-0.25  0.25  0.  ]\n",
      " [ 0.    1.5   0.  ]\n",
      " [-0.05  1.5   0.  ]\n",
      " [-0.25  3.5   0.  ]\n",
      " [ 0.5   3.    0.  ]\n",
      " [ 1.    2.    0.  ]\n",
      " [ 0.5   0.    1.  ]\n",
      " [ 0.6  -1.    1.  ]\n",
      " [ 1.   -1.5   1.  ]\n",
      " [ 1.   -1.    1.  ]\n",
      " [ 1.2  -0.8   1.  ]\n",
      " [ 1.5   0.    1.  ]\n",
      " [ 1.75  0.5   1.  ]\n",
      " [ 2.    0.75  1.  ]\n",
      " [ 2.2   0.    1.  ]\n",
      " [ 2.75 -1.    1.  ]\n",
      " [ 3.25 -1.25  1.  ]\n",
      " [ 3.   -0.25  1.  ]]\n"
     ]
    }
   ],
   "source": [
    "print(csvFile)"
   ]
  },
  {
   "cell_type": "code",
   "execution_count": null,
   "metadata": {},
   "outputs": [],
   "source": []
  }
 ],
 "metadata": {
  "kernelspec": {
   "display_name": "Machine-Learning",
   "language": "python",
   "name": "ml"
  },
  "language_info": {
   "codemirror_mode": {
    "name": "ipython",
    "version": 3
   },
   "file_extension": ".py",
   "mimetype": "text/x-python",
   "name": "python",
   "nbconvert_exporter": "python",
   "pygments_lexer": "ipython3",
   "version": "3.8.5"
  }
 },
 "nbformat": 4,
 "nbformat_minor": 4
}
