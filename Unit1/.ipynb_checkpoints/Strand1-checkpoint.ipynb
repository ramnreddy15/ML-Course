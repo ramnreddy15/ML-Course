{
 "cells": [
  {
   "cell_type": "code",
   "execution_count": 10,
   "metadata": {},
   "outputs": [
    {
     "name": "stdout",
     "output_type": "stream",
     "text": [
      "Slope for TV: 0.04576464545539759\n",
      "Slope for radio: 0.18853001691820453\n",
      "Slope for newspaper: -0.0010374930424762597\n",
      "[15.17319554]\n"
     ]
    },
    {
     "ename": "IndexError",
     "evalue": "index 200 is out of bounds for axis 0 with size 200",
     "output_type": "error",
     "traceback": [
      "\u001b[0;31m---------------------------------------------------------------------------\u001b[0m",
      "\u001b[0;31mIndexError\u001b[0m                                Traceback (most recent call last)",
      "Input \u001b[0;32mIn [10]\u001b[0m, in \u001b[0;36m<cell line: 37>\u001b[0;34m()\u001b[0m\n\u001b[1;32m     36\u001b[0m \u001b[38;5;28mprint\u001b[39m(YF[\u001b[38;5;241m199\u001b[39m])\n\u001b[1;32m     37\u001b[0m \u001b[38;5;28;01mfor\u001b[39;00m y \u001b[38;5;129;01min\u001b[39;00m \u001b[38;5;28mrange\u001b[39m(n):\n\u001b[0;32m---> 38\u001b[0m     yAvg\u001b[38;5;241m+\u001b[39m\u001b[38;5;241m=\u001b[39m\u001b[43mYF\u001b[49m\u001b[43m[\u001b[49m\u001b[43mn\u001b[49m\u001b[43m]\u001b[49m\n\u001b[1;32m     39\u001b[0m     xAvg1\u001b[38;5;241m+\u001b[39m\u001b[38;5;241m=\u001b[39mA[n,\u001b[38;5;241m0\u001b[39m]\n\u001b[1;32m     40\u001b[0m     xAvg2\u001b[38;5;241m+\u001b[39m\u001b[38;5;241m=\u001b[39mA[n,\u001b[38;5;241m1\u001b[39m]\n",
      "\u001b[0;31mIndexError\u001b[0m: index 200 is out of bounds for axis 0 with size 200"
     ]
    }
   ],
   "source": [
    "import numpy as np\n",
    "import math\n",
    "\n",
    "file = open(\"./Advertising.csv\")\n",
    "csvFile = np.loadtxt(file, delimiter=\",\", skiprows=1)\n",
    "n = csvFile.shape[0]\n",
    "A = np.ones((n,4))\n",
    "Y = csvFile[:,4]\n",
    "A[:,0] = csvFile[:,1]\n",
    "A[:,1] = csvFile[:,2]\n",
    "A[:,2] = csvFile[:,3]\n",
    "B = np.ones((4,1))\n",
    "Q, R = np.linalg.qr(A, mode='complete')\n",
    "solveY = np.dot(Q.T,Y)[:4]\n",
    "vals = []\n",
    "for arr in R:\n",
    "    temp = []\n",
    "    for val in arr:\n",
    "        if val != 0:\n",
    "            temp.append(val)\n",
    "    vals = temp + vals\n",
    "\n",
    "B[3] = solveY[3]/vals[0]\n",
    "B[2] = (solveY[2]-vals[2]*B[3])/vals[1]\n",
    "B[1] = (solveY[1]-vals[5]*B[3]-vals[4]*B[2])/vals[3]\n",
    "B[0] = (solveY[0]-vals[9]*B[3]-vals[8]*B[2]-vals[7]*B[1])/vals[6]\n",
    "\n",
    "print(\"Slope for TV:\",B[0,0])\n",
    "print(\"Slope for radio:\",B[1,0])\n",
    "print(\"Slope for newspaper:\",B[2,0])\n",
    "\n",
    "YF = A.dot(B)\n",
    "\n",
    "RSS, TSS, yAvg, xAvg1, xAvg2, xAvg3 = 0, 0, 0, 0, 0, 0\n",
    "TSS1, TSS2, TSS3 = 0,0,0\n",
    "print(YF[199])\n",
    "for y in range(n):\n",
    "    yAvg+=YF[n,0]\n",
    "    xAvg1+=A[n,0]\n",
    "    xAvg2+=A[n,1]\n",
    "    xAvg3+=A[n,2]\n",
    "    \n",
    "yAvg = yAvg/n\n",
    "xAvg1 = xAvg1/n\n",
    "xAvg2 = xAvg2/n\n",
    "xAvg3 = xAvg3/n\n",
    "\n",
    "for y in range (n):\n",
    "    RSS += pow(YF[y,0]-Y[y],2)\n",
    "    TSS += pow(yAvg-Y[y],2)\n",
    "    TSS1 += pow(xAvg1-A[n,0],2)\n",
    "    TSS2 += pow(xAvg2-A[n,1],2)\n",
    "    TSS3 += pow(xAvg3-A[n,2],2)\n",
    "    \n",
    "RSE = math.sqrt(RSS/(n-2))\n",
    "print(\"R^2:\", 1 - (RSS/TSS))\n",
    "print(\"RSE:\", RSE)\n",
    "print(RSE/math.sqrt(TSS1))"
   ]
  },
  {
   "cell_type": "code",
   "execution_count": 3,
   "metadata": {},
   "outputs": [
    {
     "name": "stdout",
     "output_type": "stream",
     "text": [
      "R^2: 0.8971942610828956\n"
     ]
    }
   ],
   "source": [
    "file = open(\"./Advertising.csv\")\n",
    "csvFile = np.loadtxt(file, delimiter=\",\", skiprows=1)\n",
    "n = csvFile.shape[0]\n",
    "A = np.ones((n,3))\n",
    "A[:,0] = csvFile[:,1]\n",
    "A[:,1] = csvFile[:,2]\n",
    "Y = csvFile[:,4]\n",
    "B = np.ones((3,1))\n",
    "Q, R = np.linalg.qr(A, mode='complete')\n",
    "solveY = np.dot(Q.T,Y)[:3]\n",
    "vals = []\n",
    "for arr in R:\n",
    "    temp = []\n",
    "    for val in arr:\n",
    "        if val != 0:\n",
    "            temp.append(val)\n",
    "    vals = temp + vals\n",
    "\n",
    "B[2] = solveY[2]/vals[0]\n",
    "B[1] = (solveY[1]-vals[2]*B[2])/vals[1]\n",
    "B[0] = (solveY[0]-vals[5]*B[2]-vals[4]*B[1])/vals[3]\n",
    "\n",
    "YF = A.dot(B)\n",
    "\n",
    "RSS, TSS, yAvg = 0, 0, 0\n",
    "for y in YF:\n",
    "    yAvg+=y[0]\n",
    "yAvg = yAvg/n\n",
    "for y in range (n):\n",
    "    RSS += pow(YF[y,0]-Y[y],2)\n",
    "    TSS += pow(yAvg-Y[y],2)\n",
    "    \n",
    "print(\"R^2:\", 1 - (RSS/TSS))"
   ]
  },
  {
   "cell_type": "code",
   "execution_count": 2,
   "metadata": {},
   "outputs": [
    {
     "name": "stdout",
     "output_type": "stream",
     "text": [
      "Slope for TV: 0.04753664043301977\n",
      "Slope for radio: 0.20249578339244015\n",
      "Slope for newspaper: 0.054693098472273355\n"
     ]
    }
   ],
   "source": [
    "import numpy as np\n",
    "file = open(\"./Advertising.csv\")\n",
    "csvFile = np.loadtxt(file, delimiter=\",\", skiprows=1)\n",
    "n = csvFile.shape[0]\n",
    "A = np.ones((n,2))\n",
    "A[:,0] = csvFile[:,1]\n",
    "Y = csvFile[:,4]\n",
    "\n",
    "# M = csvFile[:,0:2]\n",
    "# R = np.corrcoef(M, rowvar = False)[0,1]\n",
    "# print(\"R^2:\",R*R)\n",
    "\n",
    "Q, R = np.linalg.qr(A, mode='complete')\n",
    "QTB = (Q.T.dot(Y))\n",
    "B0 =QTB[1]/R[1,1]\n",
    "B1 = (QTB[0]-R[0,1]*B0)/R[0,0]\n",
    "print(\"Slope for TV:\",B1)\n",
    "\n",
    "A[:,0] = csvFile[:,2]\n",
    "\n",
    "# M = csvFile[:,0:2]\n",
    "# R = np.corrcoef(M, rowvar = False)[0,1]\n",
    "# print(\"R^2:\",R*R)\n",
    "\n",
    "Q, R = np.linalg.qr(A, mode='complete')\n",
    "QTB = (Q.T.dot(Y))\n",
    "B0 =QTB[1]/R[1,1]\n",
    "B1 = (QTB[0]-R[0,1]*B0)/R[0,0]\n",
    "print(\"Slope for radio:\",B1)\n",
    "\n",
    "A[:,0] = csvFile[:,3]\n",
    "\n",
    "# M = csvFile[:,0:2]\n",
    "# R = np.corrcoef(M, rowvar = False)[0,1]\n",
    "# print(\"R^2:\",R*R)\n",
    "\n",
    "Q, R = np.linalg.qr(A, mode='complete')\n",
    "QTB = (Q.T.dot(Y))\n",
    "B0 =QTB[1]/R[1,1]\n",
    "B1 = (QTB[0]-R[0,1]*B0)/R[0,0]\n",
    "print(\"Slope for newspaper:\",B1)"
   ]
  },
  {
   "cell_type": "code",
   "execution_count": null,
   "metadata": {},
   "outputs": [],
   "source": []
  }
 ],
 "metadata": {
  "kernelspec": {
   "display_name": "Machine-Learning",
   "language": "python",
   "name": "ml"
  },
  "language_info": {
   "codemirror_mode": {
    "name": "ipython",
    "version": 3
   },
   "file_extension": ".py",
   "mimetype": "text/x-python",
   "name": "python",
   "nbconvert_exporter": "python",
   "pygments_lexer": "ipython3",
   "version": "3.8.5"
  }
 },
 "nbformat": 4,
 "nbformat_minor": 4
}
