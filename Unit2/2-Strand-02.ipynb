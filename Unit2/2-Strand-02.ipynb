{
 "cells": [
  {
   "cell_type": "code",
   "execution_count": 37,
   "metadata": {},
   "outputs": [
    {
     "name": "stdout",
     "output_type": "stream",
     "text": [
      "m1 1747.8216896116273\n",
      "m0 803.943750231188\n",
      "s2 205318.6135917034\n",
      "76\n",
      "9643\n",
      "257\n",
      "24\n",
      "Total Actual Positives: 333\n",
      "Total Actual Negatives: 9667\n"
     ]
    },
    {
     "data": {
      "image/png": "[encoded data removed]",
      "text/plain": [
       "<Figure size 640x480 with 1 Axes>"
      ]
     },
     "metadata": {},
     "output_type": "display_data"
    },
    {
     "name": "stdout",
     "output_type": "stream",
     "text": [
      "Total Observations is: 10000\n"
     ]
    }
   ],
   "source": [
    "from sklearn.linear_model import LogisticRegression\n",
    "import matplotlib.pyplot as plt\n",
    "#\n",
    "# seed is 0\n",
    "#\n",
    "\n",
    "import numpy as np\n",
    "import math\n",
    "import csv\n",
    "X = np.ones((10000,3))\n",
    "n =10000\n",
    "Y = []\n",
    "i = 0\n",
    "X1 = []\n",
    "X0 = []\n",
    "Xall = []\n",
    "with open('Default.csv', newline='') as csvfile:\n",
    "    reader = csv.reader(csvfile, delimiter=',', quotechar='|')\n",
    "    next(reader)\n",
    "    for row in reader:\n",
    "        Y.append(1 if row[0] == '\"Yes\"' else 0)\n",
    "        X[i][0] = 1 if row[1] == '\"Yes\"' else 0\n",
    "        if Y[i] == 1:\n",
    "            X1.append(float(row[2]))\n",
    "        else:\n",
    "            X0.append(float(row[2]))\n",
    "        Xall.append(float(row[2]))\n",
    "        X[i][1] = float(row[2])\n",
    "        X[i][2] = float(row[3])/1000\n",
    "        \n",
    "        i+=1\n",
    "      \n",
    "\n",
    "    \n",
    "n1 = Y.count(1)\n",
    "n0 = Y.count(0)\n",
    "PY1 = n1/n\n",
    "PY0 = n0/n\n",
    "m1 = sum(X1)/n1\n",
    "m0 = sum(X0)/n0\n",
    "print(\"m1\",m1)\n",
    "print(\"m0\",m0)\n",
    "diff1 = 0\n",
    "for i in X1:\n",
    "    diff1+=pow(m1-i,2)\n",
    "diff0 = 0\n",
    "for i in X0:\n",
    "    diff0+=pow(m0-i,2)\n",
    "s2 = 1/(n-2) * (diff1 + diff0)\n",
    "print(\"s2\",s2)\n",
    "def predictY(x):\n",
    "    method1 = x * m1 / s2 - pow(m1,2) / ( 2 * s2 ) + math.log( PY1 )\n",
    "    method0 = x * m0 / s2 - pow(m0,2) / ( 2 * s2 ) + math.log( PY0 )\n",
    "    if method1>method0:\n",
    "        return 1\n",
    "    else:\n",
    "        return 0\n",
    "\n",
    "truePos, trueNeg, falsePos, falseNeg = 0,0,0,0\n",
    "wrongX = []\n",
    "wrongY = []\n",
    "for loc,x in enumerate(Xall):\n",
    "    predY = predictY(x)\n",
    "    if predY == Y[loc]:\n",
    "        if predY == 1:\n",
    "            truePos+=1\n",
    "        else:\n",
    "            trueNeg+=1\n",
    "    else:\n",
    "        if predY == 0:\n",
    "            falsePos+=1\n",
    "            wrongY.append(1)\n",
    "            wrongX.append(Xall[loc])\n",
    "        else:\n",
    "            falseNeg+=1    \n",
    "            wrongY.append(0)\n",
    "            wrongX.append(Xall[loc])\n",
    "            \n",
    "print(truePos)\n",
    "print(trueNeg)\n",
    "print(falsePos)\n",
    "print(falseNeg)\n",
    "print(\"Total Actual Positives:\", n1)\n",
    "print(\"Total Actual Negatives:\", n0)\n",
    "\n",
    "fig, ax = plt.subplots()\n",
    "x = np.linspace(0, 3000, 10000)\n",
    "y = [predictY(xT) for xT in x]\n",
    "plt.plot(x,y, color='C0', label='Regression Curve')\n",
    "plt.scatter(wrongX , wrongY , color='red', s = 10 , linewidths = 1, marker='o', label=\"False Predictions\")\n",
    "ax.legend()\n",
    "ax.axis('auto')\n",
    "plt.show()\n",
    "print(\"Total Observations is:\",len(X))\n",
    "# X = np.asarray(X)\n",
    "# Y = np.asarray(Y)\n",
    "\n",
    "# # X = X . reshape( -1 , 1 )\n",
    "# print( X . shape )\n",
    "# print( Y . shape )\n",
    "# clf = LogisticRegression( random_state = 0 ) . fit( X , Y )\n",
    "# print( clf . score( X , Y ) ) # mean accuracy\n",
    "\n",
    "# print( clf . intercept_ , clf . coef_ )"
   ]
  },
  {
   "cell_type": "code",
   "execution_count": 11,
   "metadata": {},
   "outputs": [],
   "source": [
    "# whichever value is higher say yhat(x) = k\n",
    "\n",
    "# Plot the false positives and false negatives as in 2-Blue-00"
   ]
  },
  {
   "cell_type": "code",
   "execution_count": null,
   "metadata": {},
   "outputs": [],
   "source": []
  }
 ],
 "metadata": {
  "kernelspec": {
   "display_name": "Machine-Learning",
   "language": "python",
   "name": "ml"
  },
  "language_info": {
   "codemirror_mode": {
    "name": "ipython",
    "version": 3
   },
   "file_extension": ".py",
   "mimetype": "text/x-python",
   "name": "python",
   "nbconvert_exporter": "python",
   "pygments_lexer": "ipython3",
   "version": "3.8.5"
  }
 },
 "nbformat": 4,
 "nbformat_minor": 4
}
