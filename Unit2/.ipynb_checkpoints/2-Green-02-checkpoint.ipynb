{
 "cells": [
  {
   "cell_type": "code",
   "execution_count": 2,
   "metadata": {},
   "outputs": [
    {
     "name": "stdout",
     "output_type": "stream",
     "text": [
      "(10000, 1)\n",
      "(10000,)\n",
      "0.9725\n",
      "[-10.65132824] [[0.00549892]]\n"
     ]
    }
   ],
   "source": [
    "from sklearn.linear_model import LogisticRegression\n",
    "#\n",
    "# seed is 0\n",
    "#\n",
    "\n",
    "import numpy as np\n",
    "import csv\n",
    "X = []\n",
    "Y = []\n",
    "with open('Default.csv', newline='') as csvfile:\n",
    "    reader = csv.reader(csvfile, delimiter=',', quotechar='|')\n",
    "    next(reader)\n",
    "    for row in reader:\n",
    "        X.append(float(row[2]))\n",
    "        Y.append(1 if row[0] == '\"Yes\"' else 0)\n",
    "        \n",
    "X = np.asarray(X)\n",
    "Y = np.asarray(Y)\n",
    "X = X . reshape( -1 , 1 )\n",
    "print( X . shape )\n",
    "print( Y . shape )\n",
    "clf = LogisticRegression( random_state = 0 ) . fit( X , Y )\n",
    "print( clf . score( X , Y ) ) # mean accuracy\n",
    "print( clf . intercept_ , clf . coef_ )\n"
   ]
  },
  {
   "cell_type": "code",
   "execution_count": null,
   "metadata": {},
   "outputs": [],
   "source": []
  }
 ],
 "metadata": {
  "kernelspec": {
   "display_name": "Machine-Learning",
   "language": "python",
   "name": "ml"
  },
  "language_info": {
   "codemirror_mode": {
    "name": "ipython",
    "version": 3
   },
   "file_extension": ".py",
   "mimetype": "text/x-python",
   "name": "python",
   "nbconvert_exporter": "python",
   "pygments_lexer": "ipython3",
   "version": "3.8.5"
  }
 },
 "nbformat": 4,
 "nbformat_minor": 4
}
