{
 "cells": [
  {
   "cell_type": "code",
   "execution_count": 1,
   "metadata": {},
   "outputs": [
    {
     "ename": "IndentationError",
     "evalue": "expected an indented block (2724752473.py, line 14)",
     "output_type": "error",
     "traceback": [
      "\u001b[0;36m  Input \u001b[0;32mIn [1]\u001b[0;36m\u001b[0m\n\u001b[0;31m    dx = ( np . array( [ x1 , x2 ] ) - m ) . reshape( -1 , 1 )\u001b[0m\n\u001b[0m    ^\u001b[0m\n\u001b[0;31mIndentationError\u001b[0m\u001b[0;31m:\u001b[0m expected an indented block\n"
     ]
    }
   ],
   "source": [
    "import numpy as np\n",
    "import matplotlib.pyplot as plt\n",
    "\n",
    "x1 = np . linspace( -1.0 , 2.0 , 100 )\n",
    "x2 = np . linspace( -1.0 , 2.0 , 101 ) # not square\n",
    "\n",
    "X1 , X2 = np . meshgrid( x2 , x1 ) # or change indexing\n",
    "\n",
    "m = np . array( [ 0.4 , 0.7 ] )\n",
    "s = np . array( [ [ 0.02 , 0.0 ] , [ 0.0 , 0.01 ] ] )\n",
    "\n",
    "def f( x1 , x2 ) :\n",
    "\n",
    "    dx = ( np . array( [ x1 , x2 ] ) - m ) . reshape( -1 , 1 )\n",
    "\n",
    "    sinv = np . linalg . inv( s )\n",
    "\n",
    "    p = m . size # number of inputs\n",
    "\n",
    "    sf = np . power( 2.0 * np . pi , p / 2.0 ) * np . sqrt( np . linalg .det( s ) )\n",
    "\n",
    "    return 1.0 / sf * np . exp( -0.5 * ( ( dx . T @ sinv ) @ dx ) )\n",
    "\n",
    "\n",
    "vf = np . vectorize( f ) # to match the matrix dimension broadcasting meshgrid\n",
    "\n",
    "Y = vf( X1 , X2 )\n",
    "\n",
    "fig = plt . figure()\n",
    "ax = plt . axes( projection = '3d' )\n",
    "ax . plot_surface( X1 , X2 , Y )\n",
    "\n",
    "plt . show()\n"
   ]
  },
  {
   "cell_type": "code",
   "execution_count": null,
   "metadata": {},
   "outputs": [],
   "source": []
  }
 ],
 "metadata": {
  "kernelspec": {
   "display_name": "Machine-Learning",
   "language": "python",
   "name": "ml"
  },
  "language_info": {
   "codemirror_mode": {
    "name": "ipython",
    "version": 3
   },
   "file_extension": ".py",
   "mimetype": "text/x-python",
   "name": "python",
   "nbconvert_exporter": "python",
   "pygments_lexer": "ipython3",
   "version": "3.8.5"
  }
 },
 "nbformat": 4,
 "nbformat_minor": 4
}
