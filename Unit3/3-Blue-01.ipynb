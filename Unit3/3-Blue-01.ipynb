{
 "cells": [
  {
   "cell_type": "code",
   "execution_count": 2,
   "metadata": {},
   "outputs": [
    {
     "name": "stdout",
     "output_type": "stream",
     "text": [
      "Total Actual Positives: 333\n",
      "Total Actual Negatives: 9667\n",
      "(10000, 3)\n",
      "(10000,)\n",
      "0.9724\n",
      "[-9.4794016] [[-0.36625805  0.00470457  0.00706105]]\n"
     ]
    }
   ],
   "source": [
    "from sklearn.discriminant_analysis import LinearDiscriminantAnalysis\n",
    "from sklearn.metrics import confusion_matrix\n",
    "#\n",
    "# seed is 0\n",
    "#\n",
    "\n",
    "import numpy as np\n",
    "import csv\n",
    "X = np.ones((10000,3))\n",
    "Y = []\n",
    "i = 0\n",
    "with open('Default.csv', newline='') as csvfile:\n",
    "    reader = csv.reader(csvfile, delimiter=',', quotechar='|')\n",
    "    next(reader)\n",
    "    for row in reader:\n",
    "        X[i][0] = 1 if row[1] == '\"Yes\"' else 0\n",
    "        X[i][1] = float(row[2])\n",
    "        X[i][2] = float(row[3])/1000\n",
    "        \n",
    "        Y.append(1 if row[0] == '\"Yes\"' else 0)\n",
    "        i+=1\n",
    "      \n",
    "    \n",
    "print(\"Total Actual Positives:\", Y.count(1))\n",
    "print(\"Total Actual Negatives:\", Y.count(0))\n",
    "X = np.asarray(X)\n",
    "Y = np.asarray(Y)\n",
    "\n",
    "# X = X . reshape( -1 , 1 )\n",
    "print( X . shape )\n",
    "print( Y . shape )\n",
    "clf = LinearDiscriminantAnalysis() . fit( X , Y )\n",
    "print( clf . score( X , Y ) ) # mean accuracy\n",
    "\n",
    "print( clf . intercept_ , clf . coef_ )"
   ]
  },
  {
   "cell_type": "code",
   "execution_count": 7,
   "metadata": {},
   "outputs": [
    {
     "name": "stdout",
     "output_type": "stream",
     "text": [
      "[[9.96776483e-01 3.22351679e-03]\n",
      " [9.97310469e-01 2.68953132e-03]\n",
      " [9.85291400e-01 1.47085998e-02]\n",
      " ...\n",
      " [9.93867912e-01 6.13208754e-03]\n",
      " [8.62826402e-01 1.37173598e-01]\n",
      " [9.99846451e-01 1.53549027e-04]]\n",
      "0.5\n",
      "79 22\n",
      "254 9645\n",
      "\n",
      "0.2\n",
      "11 3\n",
      "322 9664\n"
     ]
    }
   ],
   "source": [
    "print(clf.predict_proba(X))\n",
    "pobs = clf.predict_proba(X)\n",
    "falsePos = 0\n",
    "falseNeg = 0\n",
    "truePos = 0\n",
    "trueNeg = 0\n",
    "threshold = 0.5\n",
    "for i in range(len(X)):\n",
    "    if pobs[i,0] <= threshold:\n",
    "        if Y[i] == 0:\n",
    "            falsePos+=1\n",
    "        else:\n",
    "            truePos+=1\n",
    "    elif pobs[i,0] > threshold:\n",
    "        if Y[i] == 1:\n",
    "            falseNeg+=1\n",
    "        else:\n",
    "            trueNeg+=1\n",
    "            \n",
    "print(\"0.5\")\n",
    "print(truePos, falsePos)\n",
    "print(falseNeg, trueNeg)\n",
    "\n",
    "falsePos = 0\n",
    "falseNeg = 0\n",
    "truePos = 0\n",
    "trueNeg = 0\n",
    "threshold = 0.2\n",
    "for i in range(len(X)):\n",
    "    if pobs[i,0] <= threshold:\n",
    "        if Y[i] == 0:\n",
    "            falsePos+=1\n",
    "        else:\n",
    "            truePos+=1\n",
    "    elif pobs[i,0] > threshold:\n",
    "        if Y[i] == 1:\n",
    "            falseNeg+=1\n",
    "        else:\n",
    "            trueNeg+=1\n",
    "            \n",
    "print()\n",
    "print(\"0.2\")\n",
    "print(truePos, falsePos)\n",
    "print(falseNeg, trueNeg)"
   ]
  },
  {
   "cell_type": "code",
   "execution_count": null,
   "metadata": {},
   "outputs": [],
   "source": []
  }
 ],
 "metadata": {
  "kernelspec": {
   "display_name": "Machine-Learning",
   "language": "python",
   "name": "ml"
  },
  "language_info": {
   "codemirror_mode": {
    "name": "ipython",
    "version": 3
   },
   "file_extension": ".py",
   "mimetype": "text/x-python",
   "name": "python",
   "nbconvert_exporter": "python",
   "pygments_lexer": "ipython3",
   "version": "3.8.5"
  }
 },
 "nbformat": 4,
 "nbformat_minor": 4
}
